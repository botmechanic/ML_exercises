{
 "cells": [
  {
   "cell_type": "code",
   "execution_count": 1,
   "id": "ccdeac26-c7b4-4138-b617-556af7fdef2e",
   "metadata": {},
   "outputs": [
    {
     "name": "stderr",
     "output_type": "stream",
     "text": [
      "/home/tristan/miniconda3/lib/python3.8/site-packages/tqdm/auto.py:21: TqdmWarning: IProgress not found. Please update jupyter and ipywidgets. See https://ipywidgets.readthedocs.io/en/stable/user_install.html\n",
      "  from .autonotebook import tqdm as notebook_tqdm\n",
      "/home/tristan/miniconda3/lib/python3.8/site-packages/fastbook/__init__.py:11: UserWarning: Missing `ipywidgets` - please install it\n",
      "  except ModuleNotFoundError: warn(\"Missing `ipywidgets` - please install it\")\n",
      "/home/tristan/miniconda3/lib/python3.8/site-packages/fastbook/__init__.py:13: UserWarning: Missing `sentencepiece` - please run `pip install 'sentencepiece<0.1.90'`\n",
      "  except ModuleNotFoundError: warn(\"Missing `sentencepiece` - please run `pip install 'sentencepiece<0.1.90'`\")\n"
     ]
    }
   ],
   "source": [
    "from fastai.vision.all import *\n",
    "from fastbook import *\n",
    "\n",
    "matplotlib.rc('image', cmap='Greys')"
   ]
  },
  {
   "cell_type": "code",
   "execution_count": 2,
   "id": "11964ca0-9f56-4425-ab1e-c2909059865a",
   "metadata": {},
   "outputs": [],
   "source": [
    "path = untar_data(URLs.MNIST)"
   ]
  },
  {
   "cell_type": "code",
   "execution_count": 3,
   "id": "e19e9f03-0bd6-4be2-807b-73087d37840e",
   "metadata": {},
   "outputs": [],
   "source": [
    "Path.BASE_PATH = path"
   ]
  },
  {
   "cell_type": "code",
   "execution_count": 4,
   "id": "24fa985e-3fa5-48c3-be50-c1c7609c0ab1",
   "metadata": {},
   "outputs": [
    {
     "data": {
      "text/plain": [
       "(#2) [Path('training'),Path('testing')]"
      ]
     },
     "execution_count": 4,
     "metadata": {},
     "output_type": "execute_result"
    }
   ],
   "source": [
    "path.ls()"
   ]
  },
  {
   "cell_type": "code",
   "execution_count": 5,
   "id": "258464d7-adf5-43b1-8503-d68a404d6071",
   "metadata": {},
   "outputs": [],
   "source": [
    "def img_to_df(img_path):\n",
    "    img = Image.open(img_path)\n",
    "    img_t = tensor(img)\n",
    "    df = pd.DataFrame(img_t)\n",
    "    display(df.style.set_properties(**{'font-size':'6pt'}).background_gradient('Greys'))"
   ]
  },
  {
   "cell_type": "code",
   "execution_count": 6,
   "id": "3df3de3e-ae69-418c-b75f-91e41f466b3c",
   "metadata": {},
   "outputs": [],
   "source": [
    "def stack_imgs(path):\n",
    "    images = path.ls().sorted()\n",
    "    tensors = [tensor(Image.open(i)) for i in images]\n",
    "    stacked_tensors = torch.stack(tensors).float()/255\n",
    "    print(path.stem, stacked_tensors.shape)\n",
    "    return stacked_tensors"
   ]
  },
  {
   "cell_type": "code",
   "execution_count": 7,
   "id": "168fc950-162a-4bce-bee6-a457c291cc49",
   "metadata": {},
   "outputs": [
    {
     "name": "stdout",
     "output_type": "stream",
     "text": [
      "0 torch.Size([5923, 28, 28])\n",
      "1 torch.Size([6742, 28, 28])\n",
      "2 torch.Size([5958, 28, 28])\n",
      "3 torch.Size([6131, 28, 28])\n",
      "4 torch.Size([5842, 28, 28])\n",
      "5 torch.Size([5421, 28, 28])\n",
      "6 torch.Size([5918, 28, 28])\n",
      "7 torch.Size([6265, 28, 28])\n",
      "8 torch.Size([5851, 28, 28])\n",
      "9 torch.Size([5949, 28, 28])\n"
     ]
    }
   ],
   "source": [
    "list_digit_tensors = [stack_imgs(i) for i in (path/'training').ls().sorted()]"
   ]
  },
  {
   "cell_type": "code",
   "execution_count": 8,
   "id": "ca39755e-02de-4f7c-922c-549996138e47",
   "metadata": {},
   "outputs": [],
   "source": [
    "def get_digit_means(list_digit_tensors):\n",
    "    means = []\n",
    "    for i, digit_t in enumerate(list_digit_tensors):\n",
    "        means.append(digit_t.mean(0))\n",
    "    return means"
   ]
  },
  {
   "cell_type": "code",
   "execution_count": 9,
   "id": "8bed0a3a-9794-4886-93f6-d67ec79339ee",
   "metadata": {},
   "outputs": [],
   "source": [
    "digit_means = get_digit_means(list_digit_tensors)"
   ]
  },
  {
   "cell_type": "code",
   "execution_count": 10,
   "id": "e318d511-04ec-4566-976a-3215e2e6c289",
   "metadata": {},
   "outputs": [],
   "source": [
    "def predict_digit(digit_t, mean_digits):\n",
    "    pred = None\n",
    "    lowest_dist = None\n",
    "    for i, mean_digit in enumerate(mean_digits):\n",
    "        distance = (digit_t - mean_digit).abs().mean((-1,-2))\n",
    "        if pred is None:\n",
    "            pred = i\n",
    "            lowest_dist = distance\n",
    "        if max(lowest_dist, distance) is lowest_dist:\n",
    "            pred = i\n",
    "            lowest_dist = distance\n",
    "\n",
    "    return pred"
   ]
  },
  {
   "cell_type": "code",
   "execution_count": 11,
   "id": "8d35abbf-6de6-4d60-93ce-9bfd103f7082",
   "metadata": {},
   "outputs": [],
   "source": [
    "def naive_classifier(paths, digit_means):\n",
    "    accuracy_table = {}\n",
    "    for i, path in enumerate(paths):\n",
    "        preds = []\n",
    "        \n",
    "        for tensor in path:\n",
    "            pred = predict_digit(tensor, digit_means)\n",
    "            preds.append(pred == i)\n",
    "            \n",
    "        accuracy = torch.Tensor(preds).float().mean()\n",
    "        accuracy_table[i] = accuracy\n",
    "\n",
    "    return sum(accuracy_table.values()) / len(accuracy_table.values())"
   ]
  },
  {
   "cell_type": "code",
   "execution_count": 12,
   "id": "17506a59-329f-456c-8cbc-4954effdbd14",
   "metadata": {},
   "outputs": [
    {
     "data": {
      "text/plain": [
       "tensor(0.6429)"
      ]
     },
     "execution_count": 12,
     "metadata": {},
     "output_type": "execute_result"
    }
   ],
   "source": [
    "accuracy = naive_classifier(list_digit_tensors, digit_means)\n",
    "accuracy"
   ]
  },
  {
   "cell_type": "code",
   "execution_count": 22,
   "id": "5957c265-f719-4dd3-887a-980961f60c4d",
   "metadata": {},
   "outputs": [
    {
     "data": {
      "text/plain": [
       "(#2) [Path('training'),Path('testing')]"
      ]
     },
     "execution_count": 22,
     "metadata": {},
     "output_type": "execute_result"
    }
   ],
   "source": [
    "(path).ls()"
   ]
  },
  {
   "cell_type": "code",
   "execution_count": 21,
   "id": "10b03efa-6ae2-41ec-8472-81a2fd004aa7",
   "metadata": {},
   "outputs": [
    {
     "name": "stdout",
     "output_type": "stream",
     "text": [
      "8 torch.Size([5851, 28, 28])\n",
      "9 torch.Size([5949, 28, 28])\n"
     ]
    }
   ],
   "source": [
    "train_x = torch.cat([stack_imgs((path/'training/8')), stack_imgs((path/'training/9'))]).view(-1, 28*28)\n",
    "train_y = tensor([1]*len((path/'training/8').ls().sorted()) + [0]*len((path/'training/9').ls().sorted())).unsqueeze(1)\n",
    "dset = list(zip(train_x,train_y))"
   ]
  },
  {
   "cell_type": "code",
   "execution_count": 23,
   "id": "d93e3023-cef1-41bf-93fe-fb14988c4cca",
   "metadata": {},
   "outputs": [
    {
     "name": "stdout",
     "output_type": "stream",
     "text": [
      "8 torch.Size([974, 28, 28])\n",
      "9 torch.Size([1009, 28, 28])\n"
     ]
    }
   ],
   "source": [
    "valid_x = torch.cat([stack_imgs((path/'testing/8')), stack_imgs((path/'testing/9'))]).view(-1, 28*28)\n",
    "valid_y = tensor([1]*len((path/'training/8').ls().sorted()) + [0]*len((path/'training/9').ls().sorted())).unsqueeze(1)\n",
    "valid_dset = list(zip(valid_x,valid_y))"
   ]
  },
  {
   "cell_type": "code",
   "execution_count": 24,
   "id": "c8464122-56ab-4539-840c-83db2c0e3e65",
   "metadata": {},
   "outputs": [],
   "source": [
    "def init_params(size, std=1.0): return (torch.randn(size)*std).requires_grad_()"
   ]
  },
  {
   "cell_type": "code",
   "execution_count": 25,
   "id": "a4757772-8924-4bb7-bb62-499e3377c061",
   "metadata": {},
   "outputs": [],
   "source": [
    "def sigmoid(x): return 1/(1+torch.exp(-x))"
   ]
  },
  {
   "cell_type": "code",
   "execution_count": 26,
   "id": "096eacf2-5c27-4212-aae0-2174d54e8955",
   "metadata": {},
   "outputs": [],
   "source": [
    "def mnist_loss(predictions, targets):\n",
    "    predictions = predictions.sigmoid()\n",
    "    return torch.where(targets==1, 1-predictions, predictions).mean()"
   ]
  },
  {
   "cell_type": "code",
   "execution_count": 28,
   "id": "111ab11b-ec46-425e-a47f-50664d7b2fb8",
   "metadata": {},
   "outputs": [],
   "source": [
    "# Init Weights\n",
    "weights = init_params((28*28,1))\n",
    "bias = init_params(1)"
   ]
  },
  {
   "cell_type": "code",
   "execution_count": 30,
   "id": "3f705c92-a513-4f7c-93ca-d4493e4f3e09",
   "metadata": {},
   "outputs": [],
   "source": [
    "dl = DataLoader(dset, batch_size=256)\n",
    "xb,yb = first(dl)"
   ]
  },
  {
   "cell_type": "code",
   "execution_count": 31,
   "id": "5df68193-bcd1-4998-836b-0358751f5333",
   "metadata": {},
   "outputs": [],
   "source": [
    "valid_dl = DataLoader(valid_dset, batch_size=256)"
   ]
  },
  {
   "cell_type": "code",
   "execution_count": 32,
   "id": "6f83210d-69ad-4d85-954c-2d29f09d362f",
   "metadata": {},
   "outputs": [],
   "source": [
    "def calc_grad(xb, yb, model):\n",
    "    preds = model(xb)\n",
    "    loss = mnist_loss(preds, yb)\n",
    "    loss.backward()"
   ]
  },
  {
   "cell_type": "code",
   "execution_count": 33,
   "id": "9a53c19b-0f39-4725-b273-e6d9bfb772d4",
   "metadata": {},
   "outputs": [],
   "source": [
    "def train_epoch(model, lr, params):\n",
    "    for xb,yb in dl:\n",
    "        calc_grad(xb, yb, model)\n",
    "        for p in params:\n",
    "            p.data -= p.grad*lr\n",
    "            p.grad.zero_()"
   ]
  },
  {
   "cell_type": "code",
   "execution_count": 34,
   "id": "e8920a1d-8a35-46aa-a3db-bc0eb16909a7",
   "metadata": {},
   "outputs": [],
   "source": [
    "def batch_accuracy(xb, yb):\n",
    "    preds = xb.sigmoid()\n",
    "    correct = (preds>0.5) == yb\n",
    "    return correct.float().mean()"
   ]
  },
  {
   "cell_type": "code",
   "execution_count": 35,
   "id": "4d9a1b76-f788-439b-8a59-ffb66d2bf33a",
   "metadata": {},
   "outputs": [],
   "source": [
    "def validate_epoch(model):\n",
    "    accs = [batch_accuracy(model(xb), yb) for xb,yb in valid_dl]\n",
    "    return round(torch.stack(accs).mean().item(), 4)"
   ]
  },
  {
   "cell_type": "code",
   "execution_count": 37,
   "id": "72539b87-2cf3-4edd-b5ec-c5d7ee3c8b46",
   "metadata": {},
   "outputs": [],
   "source": [
    "class BasicOptim:\n",
    "    def __init__(self,params,lr): self.params,self.lr = list(params),lr\n",
    "\n",
    "    def step(self, *args, **kwargs):\n",
    "        for p in self.params: p.data -= p.grad.data * self.lr\n",
    "\n",
    "    def zero_grad(self, *args, **kwargs):\n",
    "        for p in self.params: p.grad = None"
   ]
  },
  {
   "cell_type": "code",
   "execution_count": 38,
   "id": "ae3a91e3-594e-42f6-b76b-e6c513d8ff62",
   "metadata": {},
   "outputs": [],
   "source": [
    "def train_epoch(model):\n",
    "    for xb,yb in dl:\n",
    "        calc_grad(xb, yb, model)\n",
    "        opt.step()\n",
    "        opt.zero_grad()"
   ]
  },
  {
   "cell_type": "code",
   "execution_count": 59,
   "id": "c9aad6d4-8c47-4ee3-b7b9-321ac1a1acf0",
   "metadata": {},
   "outputs": [],
   "source": [
    "dls = DataLoaders(dl, valid_dl)"
   ]
  },
  {
   "cell_type": "code",
   "execution_count": 60,
   "id": "12eaf7ee-3ddb-4426-b54d-49f3cb2a4aba",
   "metadata": {},
   "outputs": [],
   "source": [
    "simple_net = nn.Sequential(\n",
    "    nn.Linear(28*28,30),\n",
    "    nn.ReLU(),\n",
    "    nn.Linear(30,1)\n",
    ")"
   ]
  },
  {
   "cell_type": "code",
   "execution_count": 61,
   "id": "ccfa32cd-8af6-48c1-b00f-d8d272bc7250",
   "metadata": {},
   "outputs": [],
   "source": [
    "learn = Learner(dls, simple_net, opt_func=SGD,\n",
    "                loss_func=mnist_loss, metrics=batch_accuracy)"
   ]
  },
  {
   "cell_type": "code",
   "execution_count": 62,
   "id": "71e91756-a2db-4bdb-ab2c-70451a6fcbce",
   "metadata": {},
   "outputs": [
    {
     "data": {
      "text/html": [
       "\n",
       "<style>\n",
       "    /* Turns off some styling */\n",
       "    progress {\n",
       "        /* gets rid of default border in Firefox and Opera. */\n",
       "        border: none;\n",
       "        /* Needs to be in here for Safari polyfill so background images work as expected. */\n",
       "        background-size: auto;\n",
       "    }\n",
       "    progress:not([value]), progress:not([value])::-webkit-progress-bar {\n",
       "        background: repeating-linear-gradient(45deg, #7e7e7e, #7e7e7e 10px, #5c5c5c 10px, #5c5c5c 20px);\n",
       "    }\n",
       "    .progress-bar-interrupted, .progress-bar-interrupted::-webkit-progress-bar {\n",
       "        background: #F44336;\n",
       "    }\n",
       "</style>\n"
      ],
      "text/plain": [
       "<IPython.core.display.HTML object>"
      ]
     },
     "metadata": {},
     "output_type": "display_data"
    },
    {
     "data": {
      "text/html": [
       "<table border=\"1\" class=\"dataframe\">\n",
       "  <thead>\n",
       "    <tr style=\"text-align: left;\">\n",
       "      <th>epoch</th>\n",
       "      <th>train_loss</th>\n",
       "      <th>valid_loss</th>\n",
       "      <th>batch_accuracy</th>\n",
       "      <th>time</th>\n",
       "    </tr>\n",
       "  </thead>\n",
       "  <tbody>\n",
       "    <tr>\n",
       "      <td>0</td>\n",
       "      <td>0.421541</td>\n",
       "      <td>0.886807</td>\n",
       "      <td>0.000000</td>\n",
       "      <td>00:00</td>\n",
       "    </tr>\n",
       "    <tr>\n",
       "      <td>1</td>\n",
       "      <td>0.235733</td>\n",
       "      <td>0.941350</td>\n",
       "      <td>0.001009</td>\n",
       "      <td>00:00</td>\n",
       "    </tr>\n",
       "    <tr>\n",
       "      <td>2</td>\n",
       "      <td>0.142298</td>\n",
       "      <td>0.862372</td>\n",
       "      <td>0.097832</td>\n",
       "      <td>00:00</td>\n",
       "    </tr>\n",
       "    <tr>\n",
       "      <td>3</td>\n",
       "      <td>0.090283</td>\n",
       "      <td>0.772857</td>\n",
       "      <td>0.229955</td>\n",
       "      <td>00:00</td>\n",
       "    </tr>\n",
       "    <tr>\n",
       "      <td>4</td>\n",
       "      <td>0.064435</td>\n",
       "      <td>0.708009</td>\n",
       "      <td>0.300555</td>\n",
       "      <td>00:00</td>\n",
       "    </tr>\n",
       "    <tr>\n",
       "      <td>5</td>\n",
       "      <td>0.051332</td>\n",
       "      <td>0.664293</td>\n",
       "      <td>0.347453</td>\n",
       "      <td>00:00</td>\n",
       "    </tr>\n",
       "    <tr>\n",
       "      <td>6</td>\n",
       "      <td>0.044193</td>\n",
       "      <td>0.634693</td>\n",
       "      <td>0.375693</td>\n",
       "      <td>00:00</td>\n",
       "    </tr>\n",
       "    <tr>\n",
       "      <td>7</td>\n",
       "      <td>0.039935</td>\n",
       "      <td>0.613931</td>\n",
       "      <td>0.397378</td>\n",
       "      <td>00:00</td>\n",
       "    </tr>\n",
       "    <tr>\n",
       "      <td>8</td>\n",
       "      <td>0.037154</td>\n",
       "      <td>0.598912</td>\n",
       "      <td>0.413515</td>\n",
       "      <td>00:00</td>\n",
       "    </tr>\n",
       "    <tr>\n",
       "      <td>9</td>\n",
       "      <td>0.035183</td>\n",
       "      <td>0.587660</td>\n",
       "      <td>0.425618</td>\n",
       "      <td>00:00</td>\n",
       "    </tr>\n",
       "    <tr>\n",
       "      <td>10</td>\n",
       "      <td>0.033680</td>\n",
       "      <td>0.578945</td>\n",
       "      <td>0.432173</td>\n",
       "      <td>00:00</td>\n",
       "    </tr>\n",
       "    <tr>\n",
       "      <td>11</td>\n",
       "      <td>0.032465</td>\n",
       "      <td>0.571986</td>\n",
       "      <td>0.438225</td>\n",
       "      <td>00:00</td>\n",
       "    </tr>\n",
       "    <tr>\n",
       "      <td>12</td>\n",
       "      <td>0.031432</td>\n",
       "      <td>0.566341</td>\n",
       "      <td>0.440746</td>\n",
       "      <td>00:00</td>\n",
       "    </tr>\n",
       "    <tr>\n",
       "      <td>13</td>\n",
       "      <td>0.030519</td>\n",
       "      <td>0.561719</td>\n",
       "      <td>0.447302</td>\n",
       "      <td>00:00</td>\n",
       "    </tr>\n",
       "    <tr>\n",
       "      <td>14</td>\n",
       "      <td>0.029690</td>\n",
       "      <td>0.557908</td>\n",
       "      <td>0.450328</td>\n",
       "      <td>00:00</td>\n",
       "    </tr>\n",
       "    <tr>\n",
       "      <td>15</td>\n",
       "      <td>0.028925</td>\n",
       "      <td>0.554754</td>\n",
       "      <td>0.451841</td>\n",
       "      <td>00:00</td>\n",
       "    </tr>\n",
       "    <tr>\n",
       "      <td>16</td>\n",
       "      <td>0.028214</td>\n",
       "      <td>0.552133</td>\n",
       "      <td>0.453353</td>\n",
       "      <td>00:00</td>\n",
       "    </tr>\n",
       "    <tr>\n",
       "      <td>17</td>\n",
       "      <td>0.027554</td>\n",
       "      <td>0.549953</td>\n",
       "      <td>0.455875</td>\n",
       "      <td>00:00</td>\n",
       "    </tr>\n",
       "    <tr>\n",
       "      <td>18</td>\n",
       "      <td>0.026940</td>\n",
       "      <td>0.548131</td>\n",
       "      <td>0.457892</td>\n",
       "      <td>00:00</td>\n",
       "    </tr>\n",
       "    <tr>\n",
       "      <td>19</td>\n",
       "      <td>0.026370</td>\n",
       "      <td>0.546591</td>\n",
       "      <td>0.460918</td>\n",
       "      <td>00:00</td>\n",
       "    </tr>\n",
       "    <tr>\n",
       "      <td>20</td>\n",
       "      <td>0.025840</td>\n",
       "      <td>0.545278</td>\n",
       "      <td>0.460918</td>\n",
       "      <td>00:00</td>\n",
       "    </tr>\n",
       "    <tr>\n",
       "      <td>21</td>\n",
       "      <td>0.025345</td>\n",
       "      <td>0.544149</td>\n",
       "      <td>0.461422</td>\n",
       "      <td>00:00</td>\n",
       "    </tr>\n",
       "    <tr>\n",
       "      <td>22</td>\n",
       "      <td>0.024883</td>\n",
       "      <td>0.543160</td>\n",
       "      <td>0.461926</td>\n",
       "      <td>00:00</td>\n",
       "    </tr>\n",
       "    <tr>\n",
       "      <td>23</td>\n",
       "      <td>0.024448</td>\n",
       "      <td>0.542280</td>\n",
       "      <td>0.462431</td>\n",
       "      <td>00:00</td>\n",
       "    </tr>\n",
       "    <tr>\n",
       "      <td>24</td>\n",
       "      <td>0.024039</td>\n",
       "      <td>0.541480</td>\n",
       "      <td>0.463944</td>\n",
       "      <td>00:00</td>\n",
       "    </tr>\n",
       "    <tr>\n",
       "      <td>25</td>\n",
       "      <td>0.023654</td>\n",
       "      <td>0.540746</td>\n",
       "      <td>0.464448</td>\n",
       "      <td>00:00</td>\n",
       "    </tr>\n",
       "    <tr>\n",
       "      <td>26</td>\n",
       "      <td>0.023290</td>\n",
       "      <td>0.540066</td>\n",
       "      <td>0.465456</td>\n",
       "      <td>00:00</td>\n",
       "    </tr>\n",
       "    <tr>\n",
       "      <td>27</td>\n",
       "      <td>0.022946</td>\n",
       "      <td>0.539429</td>\n",
       "      <td>0.464448</td>\n",
       "      <td>00:00</td>\n",
       "    </tr>\n",
       "    <tr>\n",
       "      <td>28</td>\n",
       "      <td>0.022622</td>\n",
       "      <td>0.538823</td>\n",
       "      <td>0.463944</td>\n",
       "      <td>00:00</td>\n",
       "    </tr>\n",
       "    <tr>\n",
       "      <td>29</td>\n",
       "      <td>0.022316</td>\n",
       "      <td>0.538247</td>\n",
       "      <td>0.464448</td>\n",
       "      <td>00:00</td>\n",
       "    </tr>\n",
       "    <tr>\n",
       "      <td>30</td>\n",
       "      <td>0.022028</td>\n",
       "      <td>0.537692</td>\n",
       "      <td>0.465456</td>\n",
       "      <td>00:00</td>\n",
       "    </tr>\n",
       "    <tr>\n",
       "      <td>31</td>\n",
       "      <td>0.021756</td>\n",
       "      <td>0.537160</td>\n",
       "      <td>0.465961</td>\n",
       "      <td>00:00</td>\n",
       "    </tr>\n",
       "    <tr>\n",
       "      <td>32</td>\n",
       "      <td>0.021500</td>\n",
       "      <td>0.536647</td>\n",
       "      <td>0.466465</td>\n",
       "      <td>00:00</td>\n",
       "    </tr>\n",
       "    <tr>\n",
       "      <td>33</td>\n",
       "      <td>0.021259</td>\n",
       "      <td>0.536152</td>\n",
       "      <td>0.466969</td>\n",
       "      <td>00:00</td>\n",
       "    </tr>\n",
       "    <tr>\n",
       "      <td>34</td>\n",
       "      <td>0.021031</td>\n",
       "      <td>0.535674</td>\n",
       "      <td>0.467978</td>\n",
       "      <td>00:00</td>\n",
       "    </tr>\n",
       "    <tr>\n",
       "      <td>35</td>\n",
       "      <td>0.020815</td>\n",
       "      <td>0.535214</td>\n",
       "      <td>0.467474</td>\n",
       "      <td>00:00</td>\n",
       "    </tr>\n",
       "    <tr>\n",
       "      <td>36</td>\n",
       "      <td>0.020610</td>\n",
       "      <td>0.534768</td>\n",
       "      <td>0.467474</td>\n",
       "      <td>00:00</td>\n",
       "    </tr>\n",
       "    <tr>\n",
       "      <td>37</td>\n",
       "      <td>0.020415</td>\n",
       "      <td>0.534333</td>\n",
       "      <td>0.468986</td>\n",
       "      <td>00:00</td>\n",
       "    </tr>\n",
       "    <tr>\n",
       "      <td>38</td>\n",
       "      <td>0.020229</td>\n",
       "      <td>0.533922</td>\n",
       "      <td>0.469491</td>\n",
       "      <td>00:00</td>\n",
       "    </tr>\n",
       "    <tr>\n",
       "      <td>39</td>\n",
       "      <td>0.020051</td>\n",
       "      <td>0.533528</td>\n",
       "      <td>0.469995</td>\n",
       "      <td>00:00</td>\n",
       "    </tr>\n",
       "  </tbody>\n",
       "</table>"
      ],
      "text/plain": [
       "<IPython.core.display.HTML object>"
      ]
     },
     "metadata": {},
     "output_type": "display_data"
    }
   ],
   "source": [
    "learn.fit(40, 0.1)"
   ]
  },
  {
   "cell_type": "code",
   "execution_count": null,
   "id": "9a3042a4-faff-4502-80fd-534ded828073",
   "metadata": {},
   "outputs": [],
   "source": []
  }
 ],
 "metadata": {
  "kernelspec": {
   "display_name": "Python 3 (ipykernel)",
   "language": "python",
   "name": "python3"
  },
  "language_info": {
   "codemirror_mode": {
    "name": "ipython",
    "version": 3
   },
   "file_extension": ".py",
   "mimetype": "text/x-python",
   "name": "python",
   "nbconvert_exporter": "python",
   "pygments_lexer": "ipython3",
   "version": "3.8.18"
  }
 },
 "nbformat": 4,
 "nbformat_minor": 5
}
