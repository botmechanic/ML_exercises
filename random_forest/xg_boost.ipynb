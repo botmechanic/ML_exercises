{
 "cells": [
  {
   "cell_type": "code",
   "execution_count": 1,
   "id": "29cbc622-bad7-4b1a-9e1e-0f6c391178cb",
   "metadata": {},
   "outputs": [],
   "source": [
    "! [ -e /content ] && pip install -Uqq fastbook kaggle waterfallcharts treeinterpreter dtreeviz"
   ]
  },
  {
   "cell_type": "code",
   "execution_count": 2,
   "id": "9e1dfe0e-de1f-496e-a7c8-e31b0d7f9982",
   "metadata": {},
   "outputs": [],
   "source": [
    "from fastbook import *\n",
    "from pandas.api.types import is_string_dtype, is_numeric_dtype, is_categorical_dtype\n",
    "from fastai.tabular.all import *\n",
    "from sklearn.ensemble import RandomForestRegressor\n",
    "from sklearn.tree import DecisionTreeRegressor\n",
    "from sklearn.metrics import r2_score, make_scorer\n",
    "from sklearn.model_selection import cross_val_score\n",
    "from IPython.display import Image, display_svg, SVG\n",
    "import xgboost as xgb\n",
    "import pandas as pd\n",
    "from sklearn.model_selection import train_test_split\n",
    "from sklearn.metrics import mean_squared_error, accuracy_score\n",
    "import numpy as np\n",
    "\n",
    "max_d = 5\n",
    "num_est = 80\n",
    "validation_lookback = 14\n",
    "train_start_days_past = 94\n",
    "should_drop_prior_gst = False\n",
    "lr = 0.1"
   ]
  },
  {
   "cell_type": "code",
   "execution_count": 3,
   "id": "4da85509-179f-4b30-ac36-acc05d9cbd36",
   "metadata": {
    "scrolled": true
   },
   "outputs": [
    {
     "name": "stderr",
     "output_type": "stream",
     "text": [
      "/home/tristan/Documents/dev/ML_exercises/random_forest/default/lib/python3.12/site-packages/fastai/tabular/core.py:23: UserWarning: The argument 'infer_datetime_format' is deprecated and will be removed in a future version. A strict version of it is now the default, see https://pandas.pydata.org/pdeps/0004-consistent-to-datetime-parsing.html. You can safely remove this argument.\n",
      "  df[date_field] = pd.to_datetime(df[date_field], infer_datetime_format=True)\n",
      "/home/tristan/Documents/dev/ML_exercises/random_forest/default/lib/python3.12/site-packages/fastai/tabular/core.py:312: FutureWarning: A value is trying to be set on a copy of a DataFrame or Series through chained assignment using an inplace method.\n",
      "The behavior will change in pandas 3.0. This inplace method will never work because the intermediate object on which we are setting values always behaves as a copy.\n",
      "\n",
      "For example, when doing 'df[col].method(value, inplace=True)', try using 'df.method({col: value}, inplace=True)' or df[col] = df[col].method(value) instead, to perform the operation inplace on the original object.\n",
      "\n",
      "\n",
      "  to[n].fillna(self.na_dict[n], inplace=True)\n",
      "/home/tristan/Documents/dev/ML_exercises/random_forest/default/lib/python3.12/site-packages/fastai/tabular/core.py:312: FutureWarning: A value is trying to be set on a copy of a DataFrame or Series through chained assignment using an inplace method.\n",
      "The behavior will change in pandas 3.0. This inplace method will never work because the intermediate object on which we are setting values always behaves as a copy.\n",
      "\n",
      "For example, when doing 'df[col].method(value, inplace=True)', try using 'df.method({col: value}, inplace=True)' or df[col] = df[col].method(value) instead, to perform the operation inplace on the original object.\n",
      "\n",
      "\n",
      "  to[n].fillna(self.na_dict[n], inplace=True)\n",
      "/home/tristan/Documents/dev/ML_exercises/random_forest/default/lib/python3.12/site-packages/fastai/tabular/core.py:312: FutureWarning: A value is trying to be set on a copy of a DataFrame or Series through chained assignment using an inplace method.\n",
      "The behavior will change in pandas 3.0. This inplace method will never work because the intermediate object on which we are setting values always behaves as a copy.\n",
      "\n",
      "For example, when doing 'df[col].method(value, inplace=True)', try using 'df.method({col: value}, inplace=True)' or df[col] = df[col].method(value) instead, to perform the operation inplace on the original object.\n",
      "\n",
      "\n",
      "  to[n].fillna(self.na_dict[n], inplace=True)\n",
      "/home/tristan/Documents/dev/ML_exercises/random_forest/default/lib/python3.12/site-packages/fastai/tabular/core.py:312: FutureWarning: A value is trying to be set on a copy of a DataFrame or Series through chained assignment using an inplace method.\n",
      "The behavior will change in pandas 3.0. This inplace method will never work because the intermediate object on which we are setting values always behaves as a copy.\n",
      "\n",
      "For example, when doing 'df[col].method(value, inplace=True)', try using 'df.method({col: value}, inplace=True)' or df[col] = df[col].method(value) instead, to perform the operation inplace on the original object.\n",
      "\n",
      "\n",
      "  to[n].fillna(self.na_dict[n], inplace=True)\n"
     ]
    }
   ],
   "source": [
    "path = Path.cwd()\n",
    "Path.BASE_PATH = path\n",
    "dsets_path = path.parent.parent/'fastai/datasets'\n",
    "df = pd.read_csv(dsets_path/'osrs_trades.csv', low_memory=False)\n",
    "dep_var = 'gst'\n",
    "make_date(df, 'timestamp')\n",
    "df = add_datepart(df, 'timestamp')\n",
    "df = df.drop('id', axis=1)\n",
    "if should_drop_prior_gst:\n",
    "    df = df.drop('prior_gst', axis=1)\n",
    "    \n",
    "procs = [Categorify, FillMissing]\n",
    "maxDay = df['timestampDayofyear'].max()\n",
    "\n",
    "minCond = (df.timestampDayofyear>(maxDay - train_start_days_past)) # day 117 is when I fixed date recording on completed_trades\n",
    "maxCond = (df.timestampDayofyear<=(maxDay - validation_lookback))\n",
    "train_idx = np.where((maxCond) & (minCond))[0]\n",
    "valid_idx = np.where(~maxCond)[0]\n",
    "\n",
    "splits = (list(train_idx),list(valid_idx))\n",
    "cont,cat = cont_cat_split(df, 1, dep_var=dep_var)\n",
    "to = TabularPandas(df, procs, cat, cont, y_names=dep_var, splits=splits)\n",
    "save_pickle(path/'preprocessed_train_valid.pkl', to)"
   ]
  },
  {
   "cell_type": "code",
   "execution_count": 4,
   "id": "403e3e3a-b183-4d98-a132-5954bad1188e",
   "metadata": {},
   "outputs": [],
   "source": [
    "xs,y = to.train.xs,to.train.y\n",
    "valid_xs,valid_y = to.valid.xs,to.valid.y"
   ]
  },
  {
   "cell_type": "code",
   "execution_count": 5,
   "id": "d6cb720a-a514-46b6-ad34-3eeb98766b7f",
   "metadata": {},
   "outputs": [
    {
     "data": {
      "text/plain": [
       "(89.577156, 44.35)"
      ]
     },
     "execution_count": 5,
     "metadata": {},
     "output_type": "execute_result"
    }
   ],
   "source": [
    "xg_reg = xgb.XGBRegressor(objective='reg:squarederror', colsample_bytree=0.3, learning_rate=lr,\n",
    "                          max_depth=max_d, alpha=10, n_estimators=num_est)\n",
    "xg_reg.fit(xs, y)\n",
    "\n",
    "y_pred = xg_reg.predict(valid_xs)\n",
    "mse = mean_squared_error(valid_y, y_pred)\n",
    "\n",
    "def accuracy(pred, y): return round(abs(y - pred).mean(), 2)\n",
    "def m_accuracy(preds, y): return accuracy(preds, y)\n",
    "\n",
    "accuracy = m_accuracy(y_pred, valid_y)\n",
    "rmse = np.sqrt(mse)\n",
    "\n",
    "rmse, accuracy"
   ]
  },
  {
   "cell_type": "code",
   "execution_count": null,
   "id": "b27d6e85-dbf4-4651-a37b-cbc82c3f040c",
   "metadata": {},
   "outputs": [],
   "source": []
  }
 ],
 "metadata": {
  "kernelspec": {
   "display_name": "Python 3 (ipykernel)",
   "language": "python",
   "name": "python3"
  },
  "language_info": {
   "codemirror_mode": {
    "name": "ipython",
    "version": 3
   },
   "file_extension": ".py",
   "mimetype": "text/x-python",
   "name": "python",
   "nbconvert_exporter": "python",
   "pygments_lexer": "ipython3",
   "version": "3.12.3"
  }
 },
 "nbformat": 4,
 "nbformat_minor": 5
}
