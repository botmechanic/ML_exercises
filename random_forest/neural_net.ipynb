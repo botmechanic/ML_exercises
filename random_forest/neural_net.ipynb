{
 "cells": [
  {
   "cell_type": "code",
   "execution_count": null,
   "id": "10becbaa-0689-4559-ba20-2a33a895ae9a",
   "metadata": {},
   "outputs": [],
   "source": [
    "from fastbook import *\n",
    "from pandas.api.types import is_string_dtype, is_numeric_dtype, is_categorical_dtype\n",
    "from fastai.tabular.all import *\n",
    "from sklearn.ensemble import RandomForestRegressor\n",
    "from sklearn.tree import DecisionTreeRegressor\n",
    "from sklearn.metrics import r2_score, make_scorer\n",
    "from sklearn.model_selection import cross_val_score\n",
    "from IPython.display import Image, display_svg, SVG\n",
    "import matplotlib.pyplot as plt\n",
    "import joblib\n",
    "import numpy as np\n",
    "\n",
    "# Experiment 1 vs. legacy\n",
    "# 1.0.0 (loss = 95)\n",
    "# 1.0.1 (loss = 71)\n",
    "# 1.0.2 (loss = 68)\n",
    "# 1.0.3 (loss = 90) (range: -10,000 - 10,000)\n",
    "\n",
    "# Experiment 2 vs. legacy-1 (accurate item price readings)\n",
    "# 1.0.4 (loss = 142000, loss / mean_pred = 2.76) (range: -1000 - 1500) (dep_var = weighted_profit)\n",
    "\n",
    "# Experiment 3 - (1.0.5 vs 1.1.0) (weighted_profit vs gst)\n",
    "# 1.0.5 - (dep_var = weighted_profit) (range: [-400, 700]) (loss = 92000, loss / mean_pred = 2.06)\n",
    "# 1.1.0 - (dep_var = gst) (range: [-400, 700]) (loss = 54, loss / mean_pred = 1.74)\n",
    "# 1.1.0 wins\n",
    "\n",
    "# Experiment 4 - (1.1.1 vs 1.2.0) (gst RF vs. gst NN)\n",
    "# 1.1.1 - (dep_var = gst) (range: [-400, 700]) (loss = 70, loss / mean_pred = 1.43)\n",
    "# 1.2.0 - (dep_var = gst) (range: [-400, 700]) (loss = 77, loss / mean_pred = 1.56)\n",
    "# 1.2.0 wins\n",
    "\n",
    "#Experiment 5 - (1.2.1 vs 1.2.2) (NN 49 day lookback vs. NN 140 day lookback)\n",
    "# 1.2.1 - (dep_var = gst) (range: [-400, 700]) (loss = 67, loss / mean_pred = 1.53)\n",
    "# 1.2.2 - (dep_var = gst) (range: [-400, 700]) (loss = 63, loss / mean_pred = 1.45)\n",
    "\n",
    "# Experiment 6 - (legacy-2 vs 1.1.2 vs 1.2.3) (baseline vs RF GST vs NN GST)\n",
    "# 63 day lookback and 14 day test set\n",
    "# 1.1.2 - (dep_var = gst) (range: [-180, 400]) (loss = 53, loss / mean_pred = 1.31)\n",
    "# 1.2.3 - (dep_var = gst) (range: [-180, 400]) (loss = 57, loss / mean_pred = 1.40)\n",
    "\n",
    "model_version = '1.2.3'\n",
    "model_can_be_dumped = True\n",
    "dep_var = 'gst'\n",
    "num_epochs = 10\n",
    "y_range_mod = 0.025\n",
    "layer_sizes = [200, 100]\n",
    "validation_lookback = 14\n",
    "train_start_days_past = 63\n",
    "wanted_columns = [\n",
    "    \"high_price_1h\",\n",
    "    \"high_price_5m\",\n",
    "    \"high_volume_1h\",\n",
    "    \"high_volume_5m\",\n",
    "    \"low_price_1h\",\n",
    "    \"low_price_5m\",\n",
    "    \"low_volume_1h\",\n",
    "    \"low_volume_5m\",\n",
    "    \"player_count\",\n",
    "    \"timestampElapsed\",\n",
    "    \"gst\"\n",
    "  ]"
   ]
  },
  {
   "cell_type": "code",
   "execution_count": null,
   "id": "470d2cf6-9f83-48bf-9b8d-41769dcb60cc",
   "metadata": {},
   "outputs": [],
   "source": [
    "path = Path.cwd()\n",
    "Path.BASE_PATH = path\n",
    "dsets_path = path.parent.parent/'fastai/datasets'\n",
    "path.ls()"
   ]
  },
  {
   "cell_type": "code",
   "execution_count": null,
   "id": "16454e03-2d17-486a-9e9d-03dfb4b8bd18",
   "metadata": {},
   "outputs": [],
   "source": [
    "df = pd.read_csv(dsets_path/'osrs_trades.csv', low_memory=False)\n",
    "make_date(df, 'timestamp')\n",
    "df = add_datepart(df, 'timestamp')"
   ]
  },
  {
   "cell_type": "code",
   "execution_count": null,
   "id": "b85604b8-ed4b-4b60-91d2-98fb9a731dd8",
   "metadata": {},
   "outputs": [],
   "source": [
    "def r_mse(pred,y): return round(math.sqrt(((pred-y)**2).mean()), 6)\n",
    "def drop_unwanted_columns(df, required_columns):\n",
    "  df = df[required_columns]\n",
    "  return df"
   ]
  },
  {
   "cell_type": "code",
   "execution_count": null,
   "id": "5695db8f-fb63-498c-9a2a-aaa92afaa9d3",
   "metadata": {},
   "outputs": [],
   "source": [
    "procs = [Categorify, FillMissing, Normalize]\n",
    "max_day = df[\"timestampDayofyear\"].max()\n",
    "minCond = (df.timestampDayofyear>(max_day - train_start_days_past)) # day 117 is when I fixed date recording on completed_trades\n",
    "maxCond = (df.timestampDayofyear<=(max_day - validation_lookback))\n",
    "train_idx = np.where((maxCond) & (minCond))[0]\n",
    "valid_idx = np.where(~maxCond)[0]\n",
    "\n",
    "df = drop_unwanted_columns(df, wanted_columns)\n",
    "df = df.sort_index(axis=1)\n",
    "\n",
    "splits = (list(train_idx),list(valid_idx))\n",
    "cont,cat = cont_cat_split(df, max_card=9000, dep_var=dep_var)"
   ]
  },
  {
   "cell_type": "code",
   "execution_count": null,
   "id": "32924ef5-c7e5-4fa1-ba15-637ea770eb51",
   "metadata": {},
   "outputs": [],
   "source": [
    "to = TabularPandas(df, procs, cat, cont, y_names=dep_var, splits=splits)\n",
    "save_pickle(path/'preprocessed_train_valid.pkl', to)\n",
    "to = load_pickle(path/'preprocessed_train_valid.pkl')"
   ]
  },
  {
   "cell_type": "code",
   "execution_count": null,
   "id": "1a774df1-6dd9-42b2-827c-7d0c122df8b4",
   "metadata": {},
   "outputs": [],
   "source": [
    "dls = to.dataloaders(1024)\n",
    "xs,y = to.train.xs,to.train.y\n",
    "min_y = y.min() - (y_range_mod * y.min())\n",
    "max_y = y.max() + (y_range_mod * y.max())\n",
    "learn = tabular_learner(dls, y_range=(min_y, max_y), layers=layer_sizes,\n",
    "                        n_out=1, loss_func=F.mse_loss)\n",
    "valley, steep = learn.lr_find(suggest_funcs=(valley, steep))"
   ]
  },
  {
   "cell_type": "code",
   "execution_count": null,
   "id": "610bad7e-1bc1-4d28-af38-51e21961ed5e",
   "metadata": {},
   "outputs": [],
   "source": [
    "learn.fit_one_cycle(num_epochs, steep)"
   ]
  },
  {
   "cell_type": "code",
   "execution_count": null,
   "id": "7cc0d9bc-ee3b-4eed-b69f-992564b4dc45",
   "metadata": {},
   "outputs": [],
   "source": [
    "valid_xs,valid_y = to.valid.xs,to.valid.y\n",
    "\n",
    "preds, targs = learn.get_preds()\n",
    "rmse = r_mse(preds, targs)\n",
    "rmse, rmse / valid_y.mean()"
   ]
  },
  {
   "cell_type": "code",
   "execution_count": null,
   "id": "5dfae559-3f85-4856-98e3-4dfe68b7343a",
   "metadata": {},
   "outputs": [],
   "source": [
    "if model_can_be_dumped:\n",
    "    learn.export(f'/home/tristan/Documents/dev/ge_bot/prediction_api/{model_version}.pkl')\n",
    "    print(\"dumped new model\")\n",
    "else:\n",
    "    print(\"did not dump new model\")"
   ]
  }
 ],
 "metadata": {
  "kernelspec": {
   "display_name": "Python(GPU)",
   "language": "python",
   "name": "gpu_env"
  },
  "language_info": {
   "codemirror_mode": {
    "name": "ipython",
    "version": 3
   },
   "file_extension": ".py",
   "mimetype": "text/x-python",
   "name": "python",
   "nbconvert_exporter": "python",
   "pygments_lexer": "ipython3",
   "version": "3.12.3"
  }
 },
 "nbformat": 4,
 "nbformat_minor": 5
}
