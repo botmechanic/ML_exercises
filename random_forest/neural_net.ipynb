{
 "cells": [
  {
   "cell_type": "code",
   "execution_count": 1,
   "id": "10becbaa-0689-4559-ba20-2a33a895ae9a",
   "metadata": {},
   "outputs": [],
   "source": [
    "from fastbook import *\n",
    "from pandas.api.types import is_string_dtype, is_numeric_dtype, is_categorical_dtype\n",
    "from fastai.tabular.all import *\n",
    "from sklearn.ensemble import RandomForestRegressor\n",
    "from sklearn.tree import DecisionTreeRegressor\n",
    "from sklearn.metrics import r2_score, make_scorer\n",
    "from sklearn.model_selection import cross_val_score\n",
    "from IPython.display import Image, display_svg, SVG\n",
    "import matplotlib.pyplot as plt\n",
    "import joblib\n",
    "import numpy as np\n",
    "\n",
    "# Experiment 1 vs. legacy\n",
    "# 1.0.0 (loss = 95)\n",
    "# 1.0.1 (loss = 71)\n",
    "# 1.0.2 (loss = 68)\n",
    "# 1.0.3 (loss = 90) (range: -10,000 - 10,000)\n",
    "\n",
    "# Experiment 2 vs. legacy-1 (accurate item price readings)\n",
    "# 1.0.4 (loss = 142000, loss / mean_pred = 2.76) (range: -1000 - 1500) (dep_var = weighted_profit)\n",
    "\n",
    "# Experiment 3 - (1.0.5 vs 1.1.0) (weighted_profit vs gst)\n",
    "# 1.0.5 - (dep_var = weighted_profit) (range: [-400, 700]) (loss = 92000, loss / mean_pred = 2.06)\n",
    "# 1.1.0 - (dep_var = gst) (range: [-400, 700]) (loss = 54, loss / mean_pred = 1.74)\n",
    "# 1.1.0 wins\n",
    "\n",
    "# Experiment 4 - (1.1.1 vs 1.2.0) (gst RF vs. gst NN)\n",
    "# 1.1.1 - (dep_var = gst) (range: [-400, 700]) (loss = 70, loss / mean_pred = 1.43)\n",
    "# 1.2.0 - (dep_var = gst) (range: [-400, 700]) (loss = 77, loss / mean_pred = 1.56)\n",
    "\n",
    "model_version = '1.2.0'\n",
    "model_can_be_dumped = True\n",
    "dep_var = 'gst'\n",
    "num_epochs = 20\n",
    "y_range_mod = 0.025\n",
    "layer_sizes = [200, 100]\n",
    "validation_lookback = 7\n",
    "train_start_days_past = 63\n",
    "wanted_columns = [\n",
    "    \"high_price_1h\",\n",
    "    \"high_price_5m\",\n",
    "    \"high_volume_1h\",\n",
    "    \"high_volume_5m\",\n",
    "    \"low_price_1h\",\n",
    "    \"low_price_5m\",\n",
    "    \"low_volume_1h\",\n",
    "    \"low_volume_5m\",\n",
    "    \"player_count\",\n",
    "    \"timestampElapsed\",\n",
    "    \"gst\"\n",
    "  ]"
   ]
  },
  {
   "cell_type": "code",
   "execution_count": 2,
   "id": "470d2cf6-9f83-48bf-9b8d-41769dcb60cc",
   "metadata": {},
   "outputs": [
    {
     "data": {
      "text/plain": [
       "(#7) [Path('preprocessed_train_valid.pkl'),Path('models'),Path('random_forest.ipynb'),Path('.ipynb_checkpoints'),Path('decision_tree.ipynb'),Path('xg_boost.ipynb'),Path('neural_net.ipynb')]"
      ]
     },
     "execution_count": 2,
     "metadata": {},
     "output_type": "execute_result"
    }
   ],
   "source": [
    "path = Path.cwd()\n",
    "Path.BASE_PATH = path\n",
    "dsets_path = path.parent.parent/'fastai/datasets'\n",
    "path.ls()"
   ]
  },
  {
   "cell_type": "code",
   "execution_count": 3,
   "id": "16454e03-2d17-486a-9e9d-03dfb4b8bd18",
   "metadata": {},
   "outputs": [
    {
     "name": "stderr",
     "output_type": "stream",
     "text": [
      "/home/tristan/Documents/dev/gpu_env/lib/python3.12/site-packages/fastai/tabular/core.py:23: UserWarning: The argument 'infer_datetime_format' is deprecated and will be removed in a future version. A strict version of it is now the default, see https://pandas.pydata.org/pdeps/0004-consistent-to-datetime-parsing.html. You can safely remove this argument.\n",
      "  df[date_field] = pd.to_datetime(df[date_field], infer_datetime_format=True)\n"
     ]
    }
   ],
   "source": [
    "df = pd.read_csv(dsets_path/'osrs_trades.csv', low_memory=False)\n",
    "make_date(df, 'timestamp')\n",
    "df = add_datepart(df, 'timestamp')"
   ]
  },
  {
   "cell_type": "code",
   "execution_count": 4,
   "id": "b85604b8-ed4b-4b60-91d2-98fb9a731dd8",
   "metadata": {},
   "outputs": [],
   "source": [
    "def r_mse(pred,y): return round(math.sqrt(((pred-y)**2).mean()), 6)\n",
    "def drop_unwanted_columns(df, required_columns):\n",
    "  df = df[required_columns]\n",
    "  return df"
   ]
  },
  {
   "cell_type": "code",
   "execution_count": 5,
   "id": "5695db8f-fb63-498c-9a2a-aaa92afaa9d3",
   "metadata": {},
   "outputs": [],
   "source": [
    "procs = [Categorify, FillMissing, Normalize]\n",
    "max_day = df[\"timestampDayofyear\"].max()\n",
    "minCond = (df.timestampDayofyear>(max_day - train_start_days_past)) # day 117 is when I fixed date recording on completed_trades\n",
    "maxCond = (df.timestampDayofyear<=(max_day - validation_lookback))\n",
    "train_idx = np.where((maxCond) & (minCond))[0]\n",
    "valid_idx = np.where(~maxCond)[0]\n",
    "\n",
    "df = drop_unwanted_columns(df, wanted_columns)\n",
    "df = df.sort_index(axis=1)\n",
    "\n",
    "splits = (list(train_idx),list(valid_idx))\n",
    "cont,cat = cont_cat_split(df, max_card=9000, dep_var=dep_var)"
   ]
  },
  {
   "cell_type": "code",
   "execution_count": 6,
   "id": "32924ef5-c7e5-4fa1-ba15-637ea770eb51",
   "metadata": {},
   "outputs": [],
   "source": [
    "to = TabularPandas(df, procs, cat, cont, y_names=dep_var, splits=splits)\n",
    "save_pickle(path/'preprocessed_train_valid.pkl', to)\n",
    "to = load_pickle(path/'preprocessed_train_valid.pkl')"
   ]
  },
  {
   "cell_type": "code",
   "execution_count": 7,
   "id": "1a774df1-6dd9-42b2-827c-7d0c122df8b4",
   "metadata": {},
   "outputs": [
    {
     "data": {
      "text/html": [
       "\n",
       "<style>\n",
       "    /* Turns off some styling */\n",
       "    progress {\n",
       "        /* gets rid of default border in Firefox and Opera. */\n",
       "        border: none;\n",
       "        /* Needs to be in here for Safari polyfill so background images work as expected. */\n",
       "        background-size: auto;\n",
       "    }\n",
       "    progress:not([value]), progress:not([value])::-webkit-progress-bar {\n",
       "        background: repeating-linear-gradient(45deg, #7e7e7e, #7e7e7e 10px, #5c5c5c 10px, #5c5c5c 20px);\n",
       "    }\n",
       "    .progress-bar-interrupted, .progress-bar-interrupted::-webkit-progress-bar {\n",
       "        background: #F44336;\n",
       "    }\n",
       "</style>\n"
      ],
      "text/plain": [
       "<IPython.core.display.HTML object>"
      ]
     },
     "metadata": {},
     "output_type": "display_data"
    },
    {
     "data": {
      "text/html": [],
      "text/plain": [
       "<IPython.core.display.HTML object>"
      ]
     },
     "metadata": {},
     "output_type": "display_data"
    },
    {
     "name": "stderr",
     "output_type": "stream",
     "text": [
      "/home/tristan/Documents/dev/gpu_env/lib/python3.12/site-packages/fastai/learner.py:51: FutureWarning: You are using `torch.load` with `weights_only=False` (the current default value), which uses the default pickle module implicitly. It is possible to construct malicious pickle data which will execute arbitrary code during unpickling (See https://github.com/pytorch/pytorch/blob/main/SECURITY.md#untrusted-models for more details). In a future release, the default value for `weights_only` will be flipped to `True`. This limits the functions that could be executed during unpickling. Arbitrary objects will no longer be allowed to be loaded via this mode unless they are explicitly allowlisted by the user via `torch.serialization.add_safe_globals`. We recommend you start setting `weights_only=True` for any use case where you don't have full control of the loaded file. Please open an issue on GitHub for any issues related to this experimental feature.\n",
      "  state = torch.load(file, map_location=device, **torch_load_kwargs)\n"
     ]
    },
    {
     "data": {
      "image/png": "[encoded data removed]",
      "text/plain": [
       "<Figure size 640x480 with 1 Axes>"
      ]
     },
     "metadata": {},
     "output_type": "display_data"
    }
   ],
   "source": [
    "dls = to.dataloaders(1024)\n",
    "xs,y = to.train.xs,to.train.y\n",
    "min_y = y.min() - (y_range_mod * y.min())\n",
    "max_y = y.max() + (y_range_mod * y.max())\n",
    "learn = tabular_learner(dls, y_range=(min_y, max_y), layers=layer_sizes,\n",
    "                        n_out=1, loss_func=F.mse_loss)\n",
    "valley, steep = learn.lr_find(suggest_funcs=(valley, steep))"
   ]
  },
  {
   "cell_type": "code",
   "execution_count": 8,
   "id": "610bad7e-1bc1-4d28-af38-51e21961ed5e",
   "metadata": {},
   "outputs": [
    {
     "data": {
      "text/html": [
       "\n",
       "<style>\n",
       "    /* Turns off some styling */\n",
       "    progress {\n",
       "        /* gets rid of default border in Firefox and Opera. */\n",
       "        border: none;\n",
       "        /* Needs to be in here for Safari polyfill so background images work as expected. */\n",
       "        background-size: auto;\n",
       "    }\n",
       "    progress:not([value]), progress:not([value])::-webkit-progress-bar {\n",
       "        background: repeating-linear-gradient(45deg, #7e7e7e, #7e7e7e 10px, #5c5c5c 10px, #5c5c5c 20px);\n",
       "    }\n",
       "    .progress-bar-interrupted, .progress-bar-interrupted::-webkit-progress-bar {\n",
       "        background: #F44336;\n",
       "    }\n",
       "</style>\n"
      ],
      "text/plain": [
       "<IPython.core.display.HTML object>"
      ]
     },
     "metadata": {},
     "output_type": "display_data"
    },
    {
     "data": {
      "text/html": [
       "<table border=\"1\" class=\"dataframe\">\n",
       "  <thead>\n",
       "    <tr style=\"text-align: left;\">\n",
       "      <th>epoch</th>\n",
       "      <th>train_loss</th>\n",
       "      <th>valid_loss</th>\n",
       "      <th>time</th>\n",
       "    </tr>\n",
       "  </thead>\n",
       "  <tbody>\n",
       "    <tr>\n",
       "      <td>0</td>\n",
       "      <td>35169.242188</td>\n",
       "      <td>31089.498047</td>\n",
       "      <td>00:00</td>\n",
       "    </tr>\n",
       "    <tr>\n",
       "      <td>1</td>\n",
       "      <td>30844.474609</td>\n",
       "      <td>36936.742188</td>\n",
       "      <td>00:00</td>\n",
       "    </tr>\n",
       "    <tr>\n",
       "      <td>2</td>\n",
       "      <td>27849.556641</td>\n",
       "      <td>20816.048828</td>\n",
       "      <td>00:00</td>\n",
       "    </tr>\n",
       "    <tr>\n",
       "      <td>3</td>\n",
       "      <td>24466.257812</td>\n",
       "      <td>12030.584961</td>\n",
       "      <td>00:00</td>\n",
       "    </tr>\n",
       "    <tr>\n",
       "      <td>4</td>\n",
       "      <td>21430.722656</td>\n",
       "      <td>8667.411133</td>\n",
       "      <td>00:00</td>\n",
       "    </tr>\n",
       "    <tr>\n",
       "      <td>5</td>\n",
       "      <td>19183.117188</td>\n",
       "      <td>6819.218750</td>\n",
       "      <td>00:00</td>\n",
       "    </tr>\n",
       "    <tr>\n",
       "      <td>6</td>\n",
       "      <td>17490.925781</td>\n",
       "      <td>7899.015137</td>\n",
       "      <td>00:00</td>\n",
       "    </tr>\n",
       "    <tr>\n",
       "      <td>7</td>\n",
       "      <td>15961.068359</td>\n",
       "      <td>7124.211914</td>\n",
       "      <td>00:00</td>\n",
       "    </tr>\n",
       "    <tr>\n",
       "      <td>8</td>\n",
       "      <td>14719.224609</td>\n",
       "      <td>7620.134766</td>\n",
       "      <td>00:00</td>\n",
       "    </tr>\n",
       "    <tr>\n",
       "      <td>9</td>\n",
       "      <td>13723.748047</td>\n",
       "      <td>6908.247070</td>\n",
       "      <td>00:00</td>\n",
       "    </tr>\n",
       "    <tr>\n",
       "      <td>10</td>\n",
       "      <td>12758.789062</td>\n",
       "      <td>6209.240234</td>\n",
       "      <td>00:00</td>\n",
       "    </tr>\n",
       "    <tr>\n",
       "      <td>11</td>\n",
       "      <td>12029.877930</td>\n",
       "      <td>6707.131348</td>\n",
       "      <td>00:00</td>\n",
       "    </tr>\n",
       "    <tr>\n",
       "      <td>12</td>\n",
       "      <td>11315.411133</td>\n",
       "      <td>6608.097656</td>\n",
       "      <td>00:00</td>\n",
       "    </tr>\n",
       "    <tr>\n",
       "      <td>13</td>\n",
       "      <td>10739.698242</td>\n",
       "      <td>6020.545898</td>\n",
       "      <td>00:00</td>\n",
       "    </tr>\n",
       "    <tr>\n",
       "      <td>14</td>\n",
       "      <td>10183.387695</td>\n",
       "      <td>5913.395508</td>\n",
       "      <td>00:00</td>\n",
       "    </tr>\n",
       "    <tr>\n",
       "      <td>15</td>\n",
       "      <td>9697.864258</td>\n",
       "      <td>6007.104492</td>\n",
       "      <td>00:00</td>\n",
       "    </tr>\n",
       "    <tr>\n",
       "      <td>16</td>\n",
       "      <td>9337.387695</td>\n",
       "      <td>6067.814453</td>\n",
       "      <td>00:00</td>\n",
       "    </tr>\n",
       "    <tr>\n",
       "      <td>17</td>\n",
       "      <td>8961.799805</td>\n",
       "      <td>6029.956055</td>\n",
       "      <td>00:00</td>\n",
       "    </tr>\n",
       "    <tr>\n",
       "      <td>18</td>\n",
       "      <td>8732.173828</td>\n",
       "      <td>5954.177734</td>\n",
       "      <td>00:00</td>\n",
       "    </tr>\n",
       "    <tr>\n",
       "      <td>19</td>\n",
       "      <td>8432.282227</td>\n",
       "      <td>5936.856934</td>\n",
       "      <td>00:00</td>\n",
       "    </tr>\n",
       "  </tbody>\n",
       "</table>"
      ],
      "text/plain": [
       "<IPython.core.display.HTML object>"
      ]
     },
     "metadata": {},
     "output_type": "display_data"
    }
   ],
   "source": [
    "learn.fit_one_cycle(num_epochs, steep)"
   ]
  },
  {
   "cell_type": "code",
   "execution_count": 9,
   "id": "7cc0d9bc-ee3b-4eed-b69f-992564b4dc45",
   "metadata": {},
   "outputs": [
    {
     "data": {
      "text/html": [
       "\n",
       "<style>\n",
       "    /* Turns off some styling */\n",
       "    progress {\n",
       "        /* gets rid of default border in Firefox and Opera. */\n",
       "        border: none;\n",
       "        /* Needs to be in here for Safari polyfill so background images work as expected. */\n",
       "        background-size: auto;\n",
       "    }\n",
       "    progress:not([value]), progress:not([value])::-webkit-progress-bar {\n",
       "        background: repeating-linear-gradient(45deg, #7e7e7e, #7e7e7e 10px, #5c5c5c 10px, #5c5c5c 20px);\n",
       "    }\n",
       "    .progress-bar-interrupted, .progress-bar-interrupted::-webkit-progress-bar {\n",
       "        background: #F44336;\n",
       "    }\n",
       "</style>\n"
      ],
      "text/plain": [
       "<IPython.core.display.HTML object>"
      ]
     },
     "metadata": {},
     "output_type": "display_data"
    },
    {
     "data": {
      "text/html": [],
      "text/plain": [
       "<IPython.core.display.HTML object>"
      ]
     },
     "metadata": {},
     "output_type": "display_data"
    },
    {
     "data": {
      "text/plain": [
       "(77.050996, 1.562097244537868)"
      ]
     },
     "execution_count": 9,
     "metadata": {},
     "output_type": "execute_result"
    }
   ],
   "source": [
    "valid_xs,valid_y = to.valid.xs,to.valid.y\n",
    "\n",
    "preds, targs = learn.get_preds()\n",
    "rmse = r_mse(preds, targs)\n",
    "rmse, rmse / valid_y.mean()"
   ]
  },
  {
   "cell_type": "code",
   "execution_count": 10,
   "id": "5dfae559-3f85-4856-98e3-4dfe68b7343a",
   "metadata": {},
   "outputs": [
    {
     "name": "stdout",
     "output_type": "stream",
     "text": [
      "dumped new model\n"
     ]
    }
   ],
   "source": [
    "if model_can_be_dumped:\n",
    "    learn.export(f'/home/tristan/Documents/dev/ge_bot/prediction_api/{model_version}.pkl')\n",
    "    print(\"dumped new model\")\n",
    "else:\n",
    "    print(\"did not dump new model\")"
   ]
  }
 ],
 "metadata": {
  "kernelspec": {
   "display_name": "Python(GPU)",
   "language": "python",
   "name": "gpu_env"
  },
  "language_info": {
   "codemirror_mode": {
    "name": "ipython",
    "version": 3
   },
   "file_extension": ".py",
   "mimetype": "text/x-python",
   "name": "python",
   "nbconvert_exporter": "python",
   "pygments_lexer": "ipython3",
   "version": "3.12.3"
  }
 },
 "nbformat": 4,
 "nbformat_minor": 5
}
