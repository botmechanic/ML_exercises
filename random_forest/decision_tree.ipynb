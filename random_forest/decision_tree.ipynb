{
 "cells": [
  {
   "cell_type": "code",
   "execution_count": null,
   "id": "b8eb4e10-3b20-4542-98a9-6b959d971438",
   "metadata": {},
   "outputs": [],
   "source": [
    "! [ -e /content ] && pip install -Uqq fastbook kaggle waterfallcharts treeinterpreter dtreeviz"
   ]
  },
  {
   "cell_type": "code",
   "execution_count": null,
   "id": "51a9aff0-852b-4999-85fc-eb962ae66470",
   "metadata": {},
   "outputs": [],
   "source": [
    "from fastbook import *\n",
    "from pandas.api.types import is_string_dtype, is_numeric_dtype, is_categorical_dtype\n",
    "from fastai.tabular.all import *\n",
    "from sklearn.ensemble import RandomForestRegressor\n",
    "from sklearn.tree import DecisionTreeRegressor\n",
    "from IPython.display import Image, display_svg, SVG\n",
    "\n",
    "pd.options.display.max_rows = 20\n",
    "pd.options.display.max_columns = 8\n",
    "validationLookback = 7"
   ]
  },
  {
   "cell_type": "code",
   "execution_count": null,
   "id": "3804abce-57cc-4627-9481-cf56409acae3",
   "metadata": {},
   "outputs": [],
   "source": [
    "path = Path.cwd()\n",
    "Path.BASE_PATH = path\n",
    "dsets_path = path.parent.parent/'fastai/datasets'"
   ]
  },
  {
   "cell_type": "code",
   "execution_count": null,
   "id": "008d001a-73ec-4968-809c-0f0789e4aa90",
   "metadata": {},
   "outputs": [],
   "source": [
    "df = pd.read_csv(dsets_path/'osrs_trades.csv', low_memory=False)\n",
    "df.columns"
   ]
  },
  {
   "cell_type": "code",
   "execution_count": null,
   "id": "aa437536-45e8-4910-b43b-abdefc677103",
   "metadata": {},
   "outputs": [],
   "source": [
    "dep_var = 'gst'"
   ]
  },
  {
   "cell_type": "code",
   "execution_count": null,
   "id": "adad83a7-4de6-4d78-8d38-0053e973b53d",
   "metadata": {},
   "outputs": [],
   "source": [
    "make_date(df, 'timestamp')\n",
    "df = add_datepart(df, 'timestamp')\n",
    "df = df.drop('id', axis=1)\n",
    "df.columns"
   ]
  },
  {
   "cell_type": "code",
   "execution_count": null,
   "id": "c8802f79-358e-4c5a-ac12-d7ca4f969dd0",
   "metadata": {},
   "outputs": [],
   "source": [
    "procs = [Categorify, FillMissing]\n",
    "maxDay = df['timestampDayofyear'].max()\n",
    "maxDay"
   ]
  },
  {
   "cell_type": "code",
   "execution_count": null,
   "id": "c09d4d5e-fc48-40ba-b63c-fa388dc79e13",
   "metadata": {},
   "outputs": [],
   "source": [
    "minCond = (df.timestampDayofyear>120) # 117 is when I fixed date recording on completed_trades\n",
    "maxCond = (df.timestampDayofyear<=(maxDay - validationLookback))\n",
    "train_idx = np.where((maxCond) & (minCond))[0]\n",
    "valid_idx = np.where(~maxCond)[0]\n",
    "\n",
    "splits = (list(train_idx),list(valid_idx))"
   ]
  },
  {
   "cell_type": "code",
   "execution_count": null,
   "id": "1eb4d630-ec58-43e3-9d7e-6cbc6ae8cd69",
   "metadata": {},
   "outputs": [],
   "source": [
    "cont,cat = cont_cat_split(df, 1, dep_var=dep_var)"
   ]
  },
  {
   "cell_type": "code",
   "execution_count": null,
   "id": "9185b547-9ffe-4472-a4f7-a08264184576",
   "metadata": {},
   "outputs": [],
   "source": [
    "to = TabularPandas(df, procs, cat, cont, y_names=dep_var, splits=splits)"
   ]
  },
  {
   "cell_type": "code",
   "execution_count": null,
   "id": "726fcd5d-b55a-43d9-8a71-b7848649671e",
   "metadata": {},
   "outputs": [],
   "source": [
    "save_pickle(path/'preprocessed_train_valid.pkl', to)"
   ]
  },
  {
   "cell_type": "code",
   "execution_count": null,
   "id": "36fb3673-df26-4ab2-98f4-439a07e7a1a5",
   "metadata": {},
   "outputs": [],
   "source": [
    "to = load_pickle(path/'preprocessed_train_valid.pkl')"
   ]
  },
  {
   "cell_type": "code",
   "execution_count": null,
   "id": "b7f0a1d7-9a8b-470a-ac8f-3713309d4021",
   "metadata": {},
   "outputs": [],
   "source": [
    "xs,y = to.train.xs,to.train.y\n",
    "valid_xs,valid_y = to.valid.xs,to.valid.y"
   ]
  },
  {
   "cell_type": "code",
   "execution_count": null,
   "id": "c21ff3fe-5840-4fdc-83b1-433a51a4f83a",
   "metadata": {},
   "outputs": [],
   "source": [
    "def r_mse(pred,y): return round(math.sqrt(((pred-y)**2).mean()), 6)\n",
    "def m_rmse(m, xs, y): return r_mse(m.predict(xs), y)"
   ]
  },
  {
   "cell_type": "code",
   "execution_count": null,
   "id": "277a9aba-3da0-4d8e-8a50-e1800cec5ae0",
   "metadata": {},
   "outputs": [],
   "source": [
    "m = DecisionTreeRegressor(min_samples_leaf=25)\n",
    "m.fit(to.train.xs, to.train.y);\n",
    "m_rmse(m, xs, y), m_rmse(m, valid_xs, valid_y)"
   ]
  },
  {
   "cell_type": "code",
   "execution_count": null,
   "id": "06791f36-666e-40ff-8405-bac0e7c3ed93",
   "metadata": {},
   "outputs": [],
   "source": []
  }
 ],
 "metadata": {
  "kernelspec": {
   "display_name": "Python 3 (ipykernel)",
   "language": "python",
   "name": "python3"
  },
  "language_info": {
   "codemirror_mode": {
    "name": "ipython",
    "version": 3
   },
   "file_extension": ".py",
   "mimetype": "text/x-python",
   "name": "python",
   "nbconvert_exporter": "python",
   "pygments_lexer": "ipython3",
   "version": "3.12.3"
  }
 },
 "nbformat": 4,
 "nbformat_minor": 5
}
