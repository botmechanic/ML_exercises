{
 "cells": [
  {
   "cell_type": "code",
   "execution_count": 1,
   "id": "b8eb4e10-3b20-4542-98a9-6b959d971438",
   "metadata": {},
   "outputs": [],
   "source": [
    "! [ -e /content ] && pip install -Uqq fastbook kaggle waterfallcharts treeinterpreter dtreeviz"
   ]
  },
  {
   "cell_type": "code",
   "execution_count": 2,
   "id": "51a9aff0-852b-4999-85fc-eb962ae66470",
   "metadata": {},
   "outputs": [
    {
     "name": "stderr",
     "output_type": "stream",
     "text": [
      "/home/tristan/miniconda3/lib/python3.8/site-packages/tqdm/auto.py:21: TqdmWarning: IProgress not found. Please update jupyter and ipywidgets. See https://ipywidgets.readthedocs.io/en/stable/user_install.html\n",
      "  from .autonotebook import tqdm as notebook_tqdm\n",
      "/home/tristan/miniconda3/lib/python3.8/site-packages/fastbook/__init__.py:11: UserWarning: Missing `ipywidgets` - please install it\n",
      "  except ModuleNotFoundError: warn(\"Missing `ipywidgets` - please install it\")\n",
      "/home/tristan/miniconda3/lib/python3.8/site-packages/fastbook/__init__.py:13: UserWarning: Missing `sentencepiece` - please run `pip install 'sentencepiece<0.1.90'`\n",
      "  except ModuleNotFoundError: warn(\"Missing `sentencepiece` - please run `pip install 'sentencepiece<0.1.90'`\")\n"
     ]
    }
   ],
   "source": [
    "from fastbook import *\n",
    "from pandas.api.types import is_string_dtype, is_numeric_dtype, is_categorical_dtype\n",
    "from fastai.tabular.all import *\n",
    "from sklearn.ensemble import RandomForestRegressor\n",
    "from sklearn.tree import DecisionTreeRegressor\n",
    "from IPython.display import Image, display_svg, SVG\n",
    "\n",
    "pd.options.display.max_rows = 20\n",
    "pd.options.display.max_columns = 8"
   ]
  },
  {
   "cell_type": "code",
   "execution_count": 3,
   "id": "3804abce-57cc-4627-9481-cf56409acae3",
   "metadata": {},
   "outputs": [
    {
     "data": {
      "text/plain": [
       "(#7) [Path('combined.db-shm'),Path('completed_5m_1h_nonull.csv'),Path('decision_tree.ipynb'),Path('.ipynb_checkpoints'),Path('combined.db'),Path('RF.ipynb'),Path('combined.db-wal')]"
      ]
     },
     "execution_count": 3,
     "metadata": {},
     "output_type": "execute_result"
    }
   ],
   "source": [
    "path = Path.cwd()\n",
    "Path.BASE_PATH = path\n",
    "path.ls()"
   ]
  },
  {
   "cell_type": "code",
   "execution_count": 4,
   "id": "008d001a-73ec-4968-809c-0f0789e4aa90",
   "metadata": {},
   "outputs": [
    {
     "data": {
      "text/plain": [
       "Index(['item_name', 'item_id', 'timestamp', 'player_count', 'gst', 'low_p_5m',\n",
       "       'high_p_5m', 'low_vol_5m', 'high_vol_5m', 'vol_ratio_5m', 'low_p_1h',\n",
       "       'high_p_1h', 'low_vol_1h', 'high_vol_1h', 'vol_ratio_1h'],\n",
       "      dtype='object')"
      ]
     },
     "execution_count": 4,
     "metadata": {},
     "output_type": "execute_result"
    }
   ],
   "source": [
    "df = pd.read_csv(path/'completed_5m_1h_nonull.csv', low_memory=False)\n",
    "df.columns"
   ]
  },
  {
   "cell_type": "code",
   "execution_count": 5,
   "id": "aa437536-45e8-4910-b43b-abdefc677103",
   "metadata": {},
   "outputs": [],
   "source": [
    "dep_var = 'gst'"
   ]
  },
  {
   "cell_type": "code",
   "execution_count": 6,
   "id": "adad83a7-4de6-4d78-8d38-0053e973b53d",
   "metadata": {},
   "outputs": [
    {
     "name": "stderr",
     "output_type": "stream",
     "text": [
      "/home/tristan/miniconda3/lib/python3.8/site-packages/fastai/tabular/core.py:23: UserWarning: The argument 'infer_datetime_format' is deprecated and will be removed in a future version. A strict version of it is now the default, see https://pandas.pydata.org/pdeps/0004-consistent-to-datetime-parsing.html. You can safely remove this argument.\n",
      "  df[date_field] = pd.to_datetime(df[date_field], infer_datetime_format=True)\n"
     ]
    },
    {
     "data": {
      "text/plain": [
       "Index(['item_name', 'item_id', 'player_count', 'gst', 'low_p_5m', 'high_p_5m',\n",
       "       'low_vol_5m', 'high_vol_5m', 'vol_ratio_5m', 'low_p_1h', 'high_p_1h',\n",
       "       'low_vol_1h', 'high_vol_1h', 'vol_ratio_1h', 'timestampYear',\n",
       "       'timestampMonth', 'timestampWeek', 'timestampDay', 'timestampDayofweek',\n",
       "       'timestampDayofyear', 'timestampIs_month_end',\n",
       "       'timestampIs_month_start', 'timestampIs_quarter_end',\n",
       "       'timestampIs_quarter_start', 'timestampIs_year_end',\n",
       "       'timestampIs_year_start', 'timestampElapsed'],\n",
       "      dtype='object')"
      ]
     },
     "execution_count": 6,
     "metadata": {},
     "output_type": "execute_result"
    }
   ],
   "source": [
    "make_date(df, 'timestamp')\n",
    "df = add_datepart(df, 'timestamp')\n",
    "df.columns"
   ]
  },
  {
   "cell_type": "code",
   "execution_count": 7,
   "id": "c8802f79-358e-4c5a-ac12-d7ca4f969dd0",
   "metadata": {},
   "outputs": [],
   "source": [
    "procs = [Categorify, FillMissing]"
   ]
  },
  {
   "cell_type": "code",
   "execution_count": 8,
   "id": "c09d4d5e-fc48-40ba-b63c-fa388dc79e13",
   "metadata": {},
   "outputs": [],
   "source": [
    "cond = (df.timestampDayofyear<115)\n",
    "train_idx = np.where(cond)[0]\n",
    "valid_idx = np.where(~cond)[0]\n",
    "\n",
    "splits = (list(train_idx),list(valid_idx))"
   ]
  },
  {
   "cell_type": "code",
   "execution_count": 9,
   "id": "1eb4d630-ec58-43e3-9d7e-6cbc6ae8cd69",
   "metadata": {},
   "outputs": [],
   "source": [
    "cont,cat = cont_cat_split(df, 1, dep_var=dep_var)"
   ]
  },
  {
   "cell_type": "code",
   "execution_count": 10,
   "id": "9185b547-9ffe-4472-a4f7-a08264184576",
   "metadata": {},
   "outputs": [],
   "source": [
    "to = TabularPandas(df, procs, cat, cont, y_names=dep_var, splits=splits)"
   ]
  },
  {
   "cell_type": "code",
   "execution_count": 11,
   "id": "726fcd5d-b55a-43d9-8a71-b7848649671e",
   "metadata": {},
   "outputs": [],
   "source": [
    "save_pickle(path/'preprocessed_train_valid.pkl', to)"
   ]
  },
  {
   "cell_type": "code",
   "execution_count": 12,
   "id": "36fb3673-df26-4ab2-98f4-439a07e7a1a5",
   "metadata": {},
   "outputs": [],
   "source": [
    "to = load_pickle(path/'preprocessed_train_valid.pkl')"
   ]
  },
  {
   "cell_type": "code",
   "execution_count": 13,
   "id": "b7f0a1d7-9a8b-470a-ac8f-3713309d4021",
   "metadata": {},
   "outputs": [],
   "source": [
    "xs,y = to.train.xs,to.train.y\n",
    "valid_xs,valid_y = to.valid.xs,to.valid.y"
   ]
  },
  {
   "cell_type": "code",
   "execution_count": 14,
   "id": "c21ff3fe-5840-4fdc-83b1-433a51a4f83a",
   "metadata": {},
   "outputs": [],
   "source": [
    "def r_mse(pred,y): return round(math.sqrt(((pred-y)**2).mean()), 6)\n",
    "def m_rmse(m, xs, y): return r_mse(m.predict(xs), y)"
   ]
  },
  {
   "cell_type": "code",
   "execution_count": 15,
   "id": "277a9aba-3da0-4d8e-8a50-e1800cec5ae0",
   "metadata": {},
   "outputs": [
    {
     "data": {
      "text/plain": [
       "(134.765828, 92.449253)"
      ]
     },
     "execution_count": 15,
     "metadata": {},
     "output_type": "execute_result"
    }
   ],
   "source": [
    "m = DecisionTreeRegressor(min_samples_leaf=25)\n",
    "m.fit(to.train.xs, to.train.y);\n",
    "m_rmse(m, xs, y), m_rmse(m, valid_xs, valid_y)"
   ]
  },
  {
   "cell_type": "code",
   "execution_count": null,
   "id": "06791f36-666e-40ff-8405-bac0e7c3ed93",
   "metadata": {},
   "outputs": [],
   "source": []
  }
 ],
 "metadata": {
  "kernelspec": {
   "display_name": "Python 3 (ipykernel)",
   "language": "python",
   "name": "python3"
  },
  "language_info": {
   "codemirror_mode": {
    "name": "ipython",
    "version": 3
   },
   "file_extension": ".py",
   "mimetype": "text/x-python",
   "name": "python",
   "nbconvert_exporter": "python",
   "pygments_lexer": "ipython3",
   "version": "3.8.18"
  }
 },
 "nbformat": 4,
 "nbformat_minor": 5
}
