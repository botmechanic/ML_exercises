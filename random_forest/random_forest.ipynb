{
 "cells": [
  {
   "cell_type": "code",
   "execution_count": null,
   "id": "3428d400-70ac-4562-a871-398a7ab4f8ed",
   "metadata": {},
   "outputs": [],
   "source": [
    "! [ -e /content ] && pip install -Uqq fastbook kaggle waterfallcharts treeinterpreter dtreeviz"
   ]
  },
  {
   "cell_type": "code",
   "execution_count": null,
   "id": "475d12bc-966d-4dee-8f19-b46abf10a630",
   "metadata": {},
   "outputs": [],
   "source": [
    "from fastbook import *\n",
    "from pandas.api.types import is_string_dtype, is_numeric_dtype, is_categorical_dtype\n",
    "from fastai.tabular.all import *\n",
    "from sklearn.ensemble import RandomForestRegressor\n",
    "from sklearn.tree import DecisionTreeRegressor\n",
    "from sklearn.metrics import r2_score, make_scorer\n",
    "from sklearn.model_selection import cross_val_score\n",
    "from IPython.display import Image, display_svg, SVG\n",
    "import matplotlib.pyplot as plt\n",
    "import joblib\n",
    "import numpy as np\n",
    "\n",
    "# Experiment 1 vs. legacy\n",
    "# 1.0.0 (loss = 95)\n",
    "# 1.0.1 (loss = 71)\n",
    "# 1.0.2 (loss = 68)\n",
    "# 1.0.3 (loss = 90) (range: -10,000 - 10,000)\n",
    "\n",
    "# Experiment 2 vs. legacy-1 (accurate item price readings)\n",
    "# 1.0.4 (loss = 142000, loss / mean_pred = 2.76) (range: -1000 - 1500) (dep_var = weighted_profit)\n",
    "\n",
    "# Experiment 3 - (1.0.5 vs 1.1.0) (weighted_profit vs gst)\n",
    "# 1.0.5 - (dep_var = weighted_profit) (range: [-400, 700]) (loss = 92000, loss / mean_pred = 2.06)\n",
    "# 1.1.0 - (dep_var = gst) (range: [-400, 700]) (loss = 54, loss / mean_pred = 1.74)\n",
    "# 1.1.0 wins\n",
    "\n",
    "# Experiment 4 - (1.1.1 vs 1.2.0) (gst RF vs. gst NN)\n",
    "# 1.1.1 - (dep_var = gst) (range: [-400, 700]) (loss = 70, loss / mean_pred = 1.43)\n",
    "# 1.2.0 - (dep_var = gst) (range: [-400, 700]) (loss = 77, loss / mean_pred = 1.56)\n",
    "\n",
    "# Experiment 5 - (1.2.1 - 1.2.2) (NN short lookback vs. NN long lookback)\n",
    "\n",
    "# Experiment 6 - (legacy-2 vs 1.1.2 vs 1.2.3) (baseline vs RF GST vs NN GST)\n",
    "# 63 day lookback and 14 day test set\n",
    "# 1.1.2 - (dep_var = gst) (range: [-180, 400]) (loss = 53, loss / mean_pred = 1.31)\n",
    "# 1.2.3 - (dep_var = gst) (range: [-180, 400]) (loss = 53, loss / mean_pred = 1.31)\n",
    "\n",
    "model_version = '1.1.2'\n",
    "model_can_be_dumped = True\n",
    "dep_var = 'gst'\n",
    "min_samples_leaf_param = 5\n",
    "max_features_param = 'sqrt'\n",
    "num_est = 80\n",
    "validation_lookback = 14\n",
    "train_start_days_past = 63\n",
    "wanted_columns = [\n",
    "    \"high_price_1h\",\n",
    "    \"high_price_5m\",\n",
    "    \"high_volume_1h\",\n",
    "    \"high_volume_5m\",\n",
    "    \"low_price_1h\",\n",
    "    \"low_price_5m\",\n",
    "    \"low_volume_1h\",\n",
    "    \"low_volume_5m\",\n",
    "    \"player_count\",\n",
    "    \"timestampElapsed\"\n",
    "  ]"
   ]
  },
  {
   "cell_type": "code",
   "execution_count": null,
   "id": "7d6b16ed-ecbb-433b-bd6d-766404c1519e",
   "metadata": {},
   "outputs": [],
   "source": [
    "path = Path.cwd()\n",
    "Path.BASE_PATH = path\n",
    "dsets_path = path.parent.parent/'fastai/datasets'\n",
    "path.ls()"
   ]
  },
  {
   "cell_type": "code",
   "execution_count": null,
   "id": "7e3776a3-8380-4027-99e6-d70ebcae46c2",
   "metadata": {},
   "outputs": [],
   "source": [
    "df = pd.read_csv(dsets_path/'osrs_trades.csv', low_memory=False)\n",
    "make_date(df, 'timestamp')\n",
    "df = add_datepart(df, 'timestamp')"
   ]
  },
  {
   "cell_type": "code",
   "execution_count": null,
   "id": "3b870b3a-c25c-4575-bb54-61b47787cfb0",
   "metadata": {
    "scrolled": true
   },
   "outputs": [],
   "source": [
    "procs = [Categorify, FillMissing]\n",
    "max_day = df[\"timestampDayofyear\"].max()\n",
    "minCond = (df.timestampDayofyear>(max_day - train_start_days_past))\n",
    "maxCond = (df.timestampDayofyear<=(max_day - validation_lookback))\n",
    "train_idx = np.where((maxCond) & (minCond))[0]\n",
    "valid_idx = np.where(~maxCond)[0]\n",
    "\n",
    "splits = (list(train_idx),list(valid_idx))\n",
    "cont,cat = cont_cat_split(df, 1, dep_var=dep_var)\n",
    "to = TabularPandas(df, procs, cat, cont, y_names=dep_var, splits=splits)\n",
    "save_pickle(path/'preprocessed_train_valid.pkl', to)"
   ]
  },
  {
   "cell_type": "code",
   "execution_count": null,
   "id": "cf5d25d8-b4d7-4086-9f6e-f5735b823a9a",
   "metadata": {},
   "outputs": [],
   "source": [
    "to = load_pickle(path/'preprocessed_train_valid.pkl')"
   ]
  },
  {
   "cell_type": "code",
   "execution_count": null,
   "id": "bbbf3936-ac5c-4465-b745-fa755d0988f5",
   "metadata": {
    "scrolled": true
   },
   "outputs": [],
   "source": [
    "xs,y = to.train.xs,to.train.y\n",
    "valid_xs,valid_y = to.valid.xs,to.valid.y"
   ]
  },
  {
   "cell_type": "code",
   "execution_count": null,
   "id": "89554fff-6fe6-4931-95b9-484b756c4d07",
   "metadata": {},
   "outputs": [],
   "source": [
    "def r_mse(pred,y): return round(math.sqrt(((pred-y)**2).mean()), 6)\n",
    "def m_rmse(m, xs, y): return r_mse(m.predict(xs), y)"
   ]
  },
  {
   "cell_type": "code",
   "execution_count": null,
   "id": "67307cbe-c0b1-46e2-bb0c-02300adc4114",
   "metadata": {},
   "outputs": [],
   "source": [
    "def rf(xs, y, n_estimators=num_est,\n",
    "       max_features=max_features_param, min_samples_leaf=min_samples_leaf_param, **kwargs):\n",
    "    return RandomForestRegressor(n_jobs=-1, n_estimators=n_estimators, max_features=max_features,\n",
    "        min_samples_leaf=min_samples_leaf, oob_score=True).fit(xs, y)"
   ]
  },
  {
   "cell_type": "code",
   "execution_count": null,
   "id": "0ca246e8-90d2-472b-ade8-4d03d8f724c1",
   "metadata": {},
   "outputs": [],
   "source": [
    "m = rf(xs, y)"
   ]
  },
  {
   "cell_type": "code",
   "execution_count": null,
   "id": "9cbd9061-d02f-48ab-b9e5-bc6ba0adace6",
   "metadata": {},
   "outputs": [],
   "source": [
    "def rf_feat_importance(m, df):\n",
    "    return pd.DataFrame({'cols':df.columns, 'imp':m.feature_importances_}\n",
    "                       ).sort_values('imp', ascending=False)"
   ]
  },
  {
   "cell_type": "code",
   "execution_count": null,
   "id": "32bf4caa-fee3-4b7c-9ce7-c1b99c737bf9",
   "metadata": {},
   "outputs": [],
   "source": [
    "fi = rf_feat_importance(m, xs)"
   ]
  },
  {
   "cell_type": "code",
   "execution_count": null,
   "id": "9d07b67b-0cd0-410f-b0a4-a6c8c605e5bb",
   "metadata": {},
   "outputs": [],
   "source": [
    "def plot_fi(fi):\n",
    "    return fi.plot('cols', 'imp', 'barh', figsize=(12,7), legend=False)"
   ]
  },
  {
   "cell_type": "code",
   "execution_count": null,
   "id": "766763e4-0922-4b8c-92dd-910ca1809d5a",
   "metadata": {},
   "outputs": [],
   "source": [
    "xs_imp = xs\n",
    "valid_xs_imp = valid_xs\n",
    "\n",
    "def drop_unwanted_columns(df, required_columns):\n",
    "  df = df[required_columns]\n",
    "  return df\n",
    "    \n",
    "xs_imp = drop_unwanted_columns(xs_imp, wanted_columns)\n",
    "valid_xs_imp = drop_unwanted_columns(valid_xs_imp, wanted_columns)\n",
    "    \n",
    "xs_imp = xs_imp.sort_index(axis=1)\n",
    "valid_xs_imp = valid_xs_imp.sort_index(axis=1)\n",
    "\n",
    "m = rf(xs_imp, y)\n",
    "mean_rmse = m_rmse(m, valid_xs_imp, valid_y)\n",
    "mean_rmse, mean_rmse / valid_y.mean()"
   ]
  },
  {
   "cell_type": "code",
   "execution_count": null,
   "id": "9ce1b4a8-50c4-4a7f-a25f-505729c0b1b9",
   "metadata": {
    "scrolled": true
   },
   "outputs": [],
   "source": [
    "preds = np.stack([t.predict(valid_xs_imp) for t in m.estimators_])"
   ]
  },
  {
   "cell_type": "code",
   "execution_count": null,
   "id": "4941fab5-5497-4e2e-8e47-5b43f35725db",
   "metadata": {},
   "outputs": [],
   "source": [
    "plt.plot([r_mse(preds[:i+1].mean(0), valid_y) for i in range(num_est)]);"
   ]
  },
  {
   "cell_type": "code",
   "execution_count": null,
   "id": "a83249ad-60b5-419a-9ade-e80c7ce322aa",
   "metadata": {},
   "outputs": [],
   "source": [
    "plot_fi(rf_feat_importance(m, xs_imp));"
   ]
  },
  {
   "cell_type": "code",
   "execution_count": null,
   "id": "9124fbfc-f4ea-4a04-aa42-3632e0784400",
   "metadata": {},
   "outputs": [],
   "source": [
    "cluster_columns(xs_imp)"
   ]
  },
  {
   "cell_type": "code",
   "execution_count": null,
   "id": "f42052ac-e64f-41af-91eb-881aa553d2fa",
   "metadata": {},
   "outputs": [],
   "source": [
    "m.predict(valid_xs_imp.head(n=10))"
   ]
  },
  {
   "cell_type": "code",
   "execution_count": null,
   "id": "811fc279-0cc5-4ff8-8796-2c1fb7458ab4",
   "metadata": {},
   "outputs": [],
   "source": [
    "valid_y.head(n=10)"
   ]
  },
  {
   "cell_type": "code",
   "execution_count": null,
   "id": "076b18fb-4456-42f6-9e40-0e2d4b7791bf",
   "metadata": {},
   "outputs": [],
   "source": [
    "y_pred = m.predict(valid_xs_imp)\n",
    "\n",
    "slope, intercept = np.polyfit(valid_y, y_pred, 1)\n",
    "reg_line = slope * np.array(valid_y) + intercept\n",
    "\n",
    "plt.figure(figsize=(10, 6))\n",
    "plt.scatter(valid_y, y_pred, color='blue', alpha=0.6, label='Predicted vs Actual')\n",
    "plt.plot([min(valid_y), max(valid_y)], [min(valid_y), max(valid_y)], color='red', linestyle='--', label='Ideal Fit')\n",
    "plt.plot(valid_y, reg_line, color='green', linestyle='-', linewidth=2, label='Regression Line')\n",
    "plt.xlabel('Actual Labels')\n",
    "plt.ylabel('Predicted Labels')\n",
    "plt.title('Predictions vs Actual Labels')\n",
    "plt.legend()\n",
    "plt.grid(True)\n",
    "plt.show()"
   ]
  },
  {
   "cell_type": "code",
   "execution_count": null,
   "id": "2a1c60ec-662c-47f9-8d10-802d779c423e",
   "metadata": {},
   "outputs": [],
   "source": [
    "xs_imp.columns"
   ]
  },
  {
   "cell_type": "code",
   "execution_count": null,
   "id": "e756fe03-4616-476e-bcbc-526d57d7776d",
   "metadata": {},
   "outputs": [],
   "source": [
    "if model_can_be_dumped:\n",
    "    joblib.dump(m, f'/home/tristan/Documents/dev/ge_bot/prediction_api/{model_version}.pkl')\n",
    "    print(\"dumped new model\")\n",
    "else:\n",
    "    print(\"did not dump new model\")"
   ]
  },
  {
   "cell_type": "code",
   "execution_count": null,
   "id": "db9a6338-a55c-4569-b34a-3b00c1788dab",
   "metadata": {},
   "outputs": [],
   "source": []
  }
 ],
 "metadata": {
  "kernelspec": {
   "display_name": "Python(GPU)",
   "language": "python",
   "name": "gpu_env"
  },
  "language_info": {
   "codemirror_mode": {
    "name": "ipython",
    "version": 3
   },
   "file_extension": ".py",
   "mimetype": "text/x-python",
   "name": "python",
   "nbconvert_exporter": "python",
   "pygments_lexer": "ipython3",
   "version": "3.12.3"
  }
 },
 "nbformat": 4,
 "nbformat_minor": 5
}
